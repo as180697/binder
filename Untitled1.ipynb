{
 "cells": [
  {
   "cell_type": "code",
   "execution_count": 6,
   "metadata": {},
   "outputs": [],
   "source": [
    "import numpy as np\n",
    "import matplotlib.pyplot as plt"
   ]
  },
  {
   "cell_type": "code",
   "execution_count": 36,
   "metadata": {},
   "outputs": [],
   "source": [
    "C = 0.3071\n",
    "z = 1\n",
    "Z = 13\n",
    "A = 26.981539\n",
    "me_c2 = 0.511*10**6\n",
    "\n",
    "I=167\n",
    "\n",
    "def gamma(T,Er):\n",
    "    return 1 + (T/Er)\n",
    "\n",
    "def beta(T,Er):\n",
    "    return (1-(1/gamma(T,Er)**2))**0.5\n",
    "\n",
    "def Sp(T,Er):\n",
    "    return (C*Z*(z**2)/(A*beta(T,Er)**2))*(np.log(2*me_c2/I) + np.log(beta(T,Er)**2) - np.log(1-beta(T,Er)**2) - beta(T,Er)**2)\n",
    "\n",
    "\n",
    "Energy = np.arange(10, 10**6, 100).tolist()\n",
    "SpList = np.zeros(10000)\n",
    "\n",
    "for i in range(10000):\n",
    "    SpList[i] = Sp(Energy[i],938.25))"
   ]
  },
  {
   "cell_type": "code",
   "execution_count": 37,
   "metadata": {},
   "outputs": [
    {
     "data": {
      "text/plain": [
       "[<matplotlib.lines.Line2D at 0x7f738006f748>]"
      ]
     },
     "execution_count": 37,
     "metadata": {},
     "output_type": "execute_result"
    },
    {
     "data": {
      "image/png": "[encoded data removed]",
      "text/plain": [
       "<Figure size 432x288 with 1 Axes>"
      ]
     },
     "metadata": {
      "needs_background": "light"
     },
     "output_type": "display_data"
    }
   ],
   "source": [
    "plt.plot(Energy, SpList)"
   ]
  },
  {
   "cell_type": "code",
   "execution_count": 35,
   "metadata": {},
   "outputs": [
    {
     "data": {
      "text/plain": [
       "8.719278237329032"
      ]
     },
     "execution_count": 35,
     "metadata": {},
     "output_type": "execute_result"
    }
   ],
   "source": [
    "np.log(2*me_c2/I)"
   ]
  }
 ],
 "metadata": {
  "kernelspec": {
   "display_name": "Python 3",
   "language": "python",
   "name": "python3"
  },
  "language_info": {
   "codemirror_mode": {
    "name": "ipython",
    "version": 3
   },
   "file_extension": ".py",
   "mimetype": "text/x-python",
   "name": "python",
   "nbconvert_exporter": "python",
   "pygments_lexer": "ipython3",
   "version": "3.7.3"
  }
 },
 "nbformat": 4,
 "nbformat_minor": 4
}
