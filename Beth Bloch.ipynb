{
 "cells": [
  {
   "cell_type": "code",
   "execution_count": 1,
   "metadata": {},
   "outputs": [],
   "source": [
    "import numpy as np\n",
    "import matplotlib.pyplot as plt"
   ]
  },
  {
   "cell_type": "code",
   "execution_count": 50,
   "metadata": {},
   "outputs": [
    {
     "data": {
      "text/plain": [
       "[<matplotlib.lines.Line2D at 0x7f42875766d8>]"
      ]
     },
     "execution_count": 50,
     "metadata": {},
     "output_type": "execute_result"
    },
    {
     "data": {
      "image/png": "[encoded data removed]",
      "text/plain": [
       "<Figure size 432x288 with 1 Axes>"
      ]
     },
     "metadata": {
      "needs_background": "light"
     },
     "output_type": "display_data"
    }
   ],
   "source": [
    "#---------------Constantes-----------------------------#\n",
    "C0 = 0.3071\n",
    "z = 1\n",
    "Z = 13\n",
    "A = 26.981539\n",
    "me_c2 = 0.511*10**6\n",
    "I=167\n",
    "\n",
    "#---------------Beth-Bloch sin corregir-----------------------------#\n",
    "\n",
    "def gamma(T,Er):\n",
    "    return 1 + (T/Er)\n",
    "\n",
    "def beta(T,Er):\n",
    "    return (1-(1/gamma(T,Er)**2))**0.5\n",
    "\n",
    "def Sp(T,Er):\n",
    "    return (C0*Z*(z**2)/(A*beta(T,Er)**2))*(np.log(2*me_c2/I) + np.log(beta(T,Er)**2) - np.log(1-beta(T,Er)**2) - beta(T,Er)**2)\n",
    "\n",
    "\n",
    "#---------------Plot-----------------------------#\n",
    "\n",
    "Energy = np.arange(10,10**6, 1).tolist()\n",
    "SpList = np.zeros(999990)\n",
    "for i in range(999990):\n",
    "    SpList[i] = Sp(Energy[i],938.25)\n",
    "plt.xscale(\"log\")\n",
    "plt.plot(Energy, SpList)"
   ]
  },
  {
   "cell_type": "code",
   "execution_count": 49,
   "metadata": {},
   "outputs": [
    {
     "data": {
      "text/plain": [
       "[<matplotlib.lines.Line2D at 0x7f427e1f92e8>]"
      ]
     },
     "execution_count": 49,
     "metadata": {},
     "output_type": "execute_result"
    },
    {
     "data": {
      "image/png": "[encoded data removed]",
      "text/plain": [
       "<Figure size 432x288 with 1 Axes>"
      ]
     },
     "metadata": {
      "needs_background": "light"
     },
     "output_type": "display_data"
    }
   ],
   "source": [
    "#---------------Beth-Bloch con correcciones-----------------------------#\n",
    "def dens(T,Er):\n",
    "    Co = -4.24\n",
    "    a = 0.0802\n",
    "    n = 3.63 \n",
    "    X1 = 3.01\n",
    "    X0 =0.1708\n",
    "    X = np.log10(beta(T,Er)*gamma(T,Er))\n",
    "    if(X<X0):\n",
    "        return 0\n",
    "    elif(X0<X<X1):\n",
    "        return 4.6052*X + Co + a*(X1-X)**n\n",
    "    else:\n",
    "        return 4.6052*X + Co\n",
    "    \n",
    "def C(T,Er):\n",
    "    b = beta(T,Er)\n",
    "    g = gamma(T,Er)\n",
    "    n = b*g\n",
    "    c1 = (0.422377*n**-2 + 0.0304043*n**-4 - 0.00038106*n**-6)*(10**-6)*I**2 \n",
    "    c2 =(3.850190*n**-2 + - 0.1667989*n**-4 - 0.00157955*n**-6)*(10**-9)*I**3\n",
    "    return c1 +c2\n",
    "\n",
    "def SpC(T,Er):\n",
    "    return (C0*Z*(z**2)/(A*beta(T,Er)**2))*(np.log(2*me_c2/I) + np.log(beta(T,Er)**2) - np.log(1-beta(T,Er)**2) - beta(T,Er)**2 - dens(T,Er) - C(T,Er)/Z)\n",
    "\n",
    "#---------------Plot-----------------------------#\n",
    "\n",
    "Energy = np.arange(10,10**6, 1).tolist()\n",
    "SpList = np.zeros(999990)\n",
    "for i in range(999990):\n",
    "    SpList[i] = SpC(Energy[i],938.25)    \n",
    "plt.xscale(\"log\")\n",
    "plt.plot(Energy, SpList)"
   ]
  }
 ],
 "metadata": {
  "kernelspec": {
   "display_name": "Python 3",
   "language": "python",
   "name": "python3"
  },
  "language_info": {
   "codemirror_mode": {
    "name": "ipython",
    "version": 3
   },
   "file_extension": ".py",
   "mimetype": "text/x-python",
   "name": "python",
   "nbconvert_exporter": "python",
   "pygments_lexer": "ipython3",
   "version": "3.7.3"
  }
 },
 "nbformat": 4,
 "nbformat_minor": 4
}
